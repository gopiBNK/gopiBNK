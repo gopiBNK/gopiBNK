{
  "nbformat": 4,
  "nbformat_minor": 0,
  "metadata": {
    "colab": {
      "provenance": [],
      "authorship_tag": "ABX9TyPrRQn3IWTGiUNNv3FdsEIB",
      "include_colab_link": true
    },
    "kernelspec": {
      "name": "python3",
      "display_name": "Python 3"
    },
    "language_info": {
      "name": "python"
    }
  },
  "cells": [
    {
      "cell_type": "markdown",
      "metadata": {
        "id": "view-in-github",
        "colab_type": "text"
      },
      "source": [
        "<a href=\"https://colab.research.google.com/github/gopiBNK/gopiBNK/blob/main/class_database.ipynb\" target=\"_parent\"><img src=\"https://colab.research.google.com/assets/colab-badge.svg\" alt=\"Open In Colab\"/></a>"
      ]
    },
    {
      "cell_type": "code",
      "execution_count": null,
      "metadata": {
        "id": "ax-3erCpVPul"
      },
      "outputs": [],
      "source": [
        "import sqlite3\n",
        "import pandas as pd\n",
        "\n",
        "class DatabaseManager:\n",
        "    def __init__(self,db_name=\"zomato.db\"):\n",
        "        self.db_name = db_name\n",
        "        self.conn = None\n",
        "        self.cursor = None\n",
        "\n",
        "    def connect(self):\n",
        "        \"\"\"Connect to the SQLite database.\"\"\"\n",
        "        if self.conn is None:\n",
        "            self.conn = sqlite3.connect(self.db_name)\n",
        "            self.cursor = self.conn.cursor()\n",
        "\n",
        "    def execute_query(self, query, params=()):\n",
        "        \"\"\"Execute an SQL query that doesn't return data (e.g., INSERT, UPDATE, DELETE).\"\"\"\n",
        "        self.connect()\n",
        "        try:\n",
        "            self.cursor.execute(query, params)\n",
        "            self.conn.commit()\n",
        "        except Exception as e:\n",
        "            print(f\"Error executing query: {e}\")\n",
        "            self.conn.rollback()  # Rollback if there is an error\n",
        "        finally:\n",
        "            # No need to call close here; connection is managed by the context\n",
        "            pass\n",
        "\n",
        "    def fetch_data(self, query, params=()):\n",
        "        \"\"\"Fetch data from the database (for SELECT queries).\"\"\"\n",
        "        self.connect()\n",
        "        try:\n",
        "            return pd.read_sql(query, self.conn)\n",
        "        except Exception as e:\n",
        "            print(f\"Error fetching data: {e}\")\n",
        "            return pd.DataFrame()  # Return an empty DataFrame on error\n",
        "\n",
        "    def close(self):\n",
        "        \"\"\"Close the database connection.\"\"\"\n",
        "        if self.conn:\n",
        "            self.conn.close()\n",
        "            self.conn = None\n",
        "            self.cursor = None\n"
      ]
    }
  ]
}
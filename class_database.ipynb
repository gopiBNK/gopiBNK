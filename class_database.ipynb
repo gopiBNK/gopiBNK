{
  "nbformat": 4,
  "nbformat_minor": 0,
  "metadata": {
    "colab": {
      "provenance": [],
      "authorship_tag": "ABX9TyO+eBe4ZgoL5geipe8y3gGL",
      "include_colab_link": true
    },
    "kernelspec": {
      "name": "python3",
      "display_name": "Python 3"
    },
    "language_info": {
      "name": "python"
    }
  },
  "cells": [
    {
      "cell_type": "markdown",
      "metadata": {
        "id": "view-in-github",
        "colab_type": "text"
      },
      "source": [
        "<a href=\"https://colab.research.google.com/github/gopiBNK/gopiBNK/blob/main/class_database.ipynb\" target=\"_parent\"><img src=\"https://colab.research.google.com/assets/colab-badge.svg\" alt=\"Open In Colab\"/></a>"
      ]
    },
    {
      "cell_type": "code",
      "execution_count": null,
      "metadata": {
        "id": "ax-3erCpVPul"
      },
      "outputs": [],
      "source": [
        "import sqlite3\n",
        "import pandas as pd\n",
        "\n",
        "class DatabaseManager:\n",
        "    def __init__(self, db_name=\"zomato.db\"):\n",
        "        self.db_name = db_name\n",
        "        self.conn = None\n",
        "        self.cursor = None\n",
        "\n",
        "    def connect(self):\n",
        "        if self.conn is None:\n",
        "            self.conn = sqlite3.connect(self.db_name)\n",
        "            self.cursor = self.conn.cursor()\n",
        "            # Enable foreign key constraints\n",
        "            self.cursor.execute(\"PRAGMA foreign_keys = ON;\")\n",
        "\n",
        "    def execute_query(self, query, params=()):\n",
        "        self.connect()\n",
        "        try:\n",
        "            self.cursor.execute(query, params)\n",
        "            self.conn.commit()\n",
        "        except Exception as e:\n",
        "            print(f\"Error executing query: {e}\")\n",
        "            self.conn.rollback()\n",
        "\n",
        "    def fetch_data(self, query, params=()):\n",
        "        self.connect()\n",
        "        try:\n",
        "            return pd.read_sql(query, self.conn, params=params)\n",
        "        except Exception as e:\n",
        "            print(f\"Error fetching data: {e}\")\n",
        "            return pd.DataFrame()\n",
        "\n",
        "    def close(self):\n",
        "        if self.conn:\n",
        "            self.conn.close()\n",
        "            self.conn = None\n",
        "            self.cursor = None"
      ]
    }
  ]
}